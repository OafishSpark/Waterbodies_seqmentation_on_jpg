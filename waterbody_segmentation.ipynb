{
 "metadata": {
  "kernelspec": {
   "language": "python",
   "display_name": "Python 3",
   "name": "python3"
  },
  "language_info": {
   "pygments_lexer": "ipython3",
   "nbconvert_exporter": "python",
   "version": "3.6.4",
   "file_extension": ".py",
   "codemirror_mode": {
    "name": "ipython",
    "version": 3
   },
   "name": "python",
   "mimetype": "text/x-python"
  }
 },
 "nbformat_minor": 4,
 "nbformat": 4,
 "cells": [
  {
   "cell_type": "markdown",
   "source": [
    "# Data preprocessing"
   ],
   "metadata": {}
  },
  {
   "cell_type": "code",
   "source": [
    "import pathlib\n",
    "\n",
    "import numpy as np\n",
    "\n",
    "import os\n",
    "\n",
    "import PIL\n",
    "from PIL import Image\n",
    "\n",
    "import cv2\n",
    "\n",
    "import glob\n",
    "\n",
    "import random\n",
    "\n",
    "from skimage.io import imshow\n",
    "\n",
    "import matplotlib.pyplot as plt"
   ],
   "metadata": {
    "execution": {
     "iopub.status.busy": "2023-05-26T12:38:40.055969Z",
     "iopub.execute_input": "2023-05-26T12:38:40.056318Z",
     "iopub.status.idle": "2023-05-26T12:38:40.684581Z",
     "shell.execute_reply.started": "2023-05-26T12:38:40.056289Z",
     "shell.execute_reply": "2023-05-26T12:38:40.683486Z"
    },
    "trusted": true
   },
   "execution_count": null,
   "outputs": []
  },
  {
   "cell_type": "code",
   "source": [
    "data_dir = pathlib.Path(\"/kaggle/input/satellite-images-of-water-bodies/Water Bodies Dataset\")"
   ],
   "metadata": {
    "execution": {
     "iopub.status.busy": "2023-05-26T12:38:40.690664Z",
     "iopub.execute_input": "2023-05-26T12:38:40.692956Z",
     "iopub.status.idle": "2023-05-26T12:38:40.699823Z",
     "shell.execute_reply.started": "2023-05-26T12:38:40.692901Z",
     "shell.execute_reply": "2023-05-26T12:38:40.698843Z"
    },
    "trusted": true
   },
   "execution_count": null,
   "outputs": []
  },
  {
   "cell_type": "code",
   "source": [
    "image_count = len(list(data_dir.glob('*/*.jpg')))\n",
    "print(image_count)"
   ],
   "metadata": {
    "execution": {
     "iopub.status.busy": "2023-05-26T12:38:40.703936Z",
     "iopub.execute_input": "2023-05-26T12:38:40.706114Z",
     "iopub.status.idle": "2023-05-26T12:38:41.218573Z",
     "shell.execute_reply.started": "2023-05-26T12:38:40.706082Z",
     "shell.execute_reply": "2023-05-26T12:38:41.217552Z"
    },
    "trusted": true
   },
   "execution_count": null,
   "outputs": []
  },
  {
   "cell_type": "code",
   "source": [
    "images = list(data_dir.glob('Images/*'))\n",
    "PIL.Image.open(str(images[100]))"
   ],
   "metadata": {
    "execution": {
     "iopub.status.busy": "2023-05-26T12:38:41.220229Z",
     "iopub.execute_input": "2023-05-26T12:38:41.220908Z",
     "iopub.status.idle": "2023-05-26T12:38:41.453788Z",
     "shell.execute_reply.started": "2023-05-26T12:38:41.220875Z",
     "shell.execute_reply": "2023-05-26T12:38:41.452961Z"
    },
    "trusted": true
   },
   "execution_count": null,
   "outputs": []
  },
  {
   "cell_type": "code",
   "source": [],
   "metadata": {
    "trusted": true
   },
   "execution_count": null,
   "outputs": []
  },
  {
   "cell_type": "code",
   "source": [
    "def prep_image(image, crop_size, size_y, size_x):\n",
    "    # Resize the image\n",
    "    prepd_image = image.resize((size_y, size_x))\n",
    "    # Crop the image to remove the border black pixels\n",
    "    borders = (crop_size, crop_size, size_x - crop_size, size_y - crop_size)\n",
    "    prepd_image = prepd_image.crop(borders)\n",
    "    return prepd_image"
   ],
   "metadata": {
    "execution": {
     "iopub.status.busy": "2023-05-26T12:38:41.456868Z",
     "iopub.execute_input": "2023-05-26T12:38:41.457533Z",
     "iopub.status.idle": "2023-05-26T12:38:41.468021Z",
     "shell.execute_reply.started": "2023-05-26T12:38:41.457499Z",
     "shell.execute_reply": "2023-05-26T12:38:41.466834Z"
    },
    "trusted": true
   },
   "execution_count": null,
   "outputs": []
  },
  {
   "cell_type": "code",
   "source": [
    "size_x=148\n",
    "size_y=148\n",
    "crop_size=10"
   ],
   "metadata": {
    "execution": {
     "iopub.status.busy": "2023-05-26T12:38:41.469634Z",
     "iopub.execute_input": "2023-05-26T12:38:41.470294Z",
     "iopub.status.idle": "2023-05-26T12:38:41.479628Z",
     "shell.execute_reply.started": "2023-05-26T12:38:41.470262Z",
     "shell.execute_reply": "2023-05-26T12:38:41.478796Z"
    },
    "trusted": true
   },
   "execution_count": null,
   "outputs": []
  },
  {
   "cell_type": "code",
   "source": [
    "img=Image.open(r\"/kaggle/input/satellite-images-of-water-bodies/Water Bodies Dataset/Images/water_body_100.jpg\")\n",
    "img=prep_image(img,crop_size,size_y,size_x)\n",
    "img=np.asarray(img)\n",
    "imshow(img)"
   ],
   "metadata": {
    "execution": {
     "iopub.status.busy": "2023-05-26T12:38:41.480559Z",
     "iopub.execute_input": "2023-05-26T12:38:41.480868Z",
     "iopub.status.idle": "2023-05-26T12:38:41.942561Z",
     "shell.execute_reply.started": "2023-05-26T12:38:41.480838Z",
     "shell.execute_reply": "2023-05-26T12:38:41.941614Z"
    },
    "trusted": true
   },
   "execution_count": null,
   "outputs": []
  },
  {
   "cell_type": "code",
   "source": [
    "################# Storing Train Images into an array #############\n",
    "train_images=[]\n",
    "\n",
    "for directory_path in glob.glob(\"/kaggle/input/satellite-images-of-water-bodies/Water Bodies Dataset/Images\"):\n",
    "    for img_path in glob.glob(os.path.join(directory_path,\"*.jpg\")):\n",
    "        img=Image.open(img_path)\n",
    "        img=prep_image(img,crop_size,size_y,size_x)\n",
    "        img = np.asarray(img)\n",
    "        train_images.append(img)\n",
    "        \n",
    "train_images = np.array(train_images) #converting list to array"
   ],
   "metadata": {
    "execution": {
     "iopub.status.busy": "2023-05-26T12:38:41.945679Z",
     "iopub.execute_input": "2023-05-26T12:38:41.948677Z",
     "iopub.status.idle": "2023-05-26T12:39:23.065808Z",
     "shell.execute_reply.started": "2023-05-26T12:38:41.948630Z",
     "shell.execute_reply": "2023-05-26T12:39:23.064858Z"
    },
    "trusted": true
   },
   "execution_count": null,
   "outputs": []
  },
  {
   "cell_type": "code",
   "source": [
    "def prep_mask(image, crop_size, size_y, size_x):\n",
    "    # Resize the image\n",
    "    prepd_image = cv2.resize(image,(size_y, size_x))\n",
    "    # Crop the image to remove the border black pixels\n",
    "    prepd_image = prepd_image[crop_size:-crop_size, crop_size:-crop_size]\n",
    "    return prepd_image"
   ],
   "metadata": {
    "execution": {
     "iopub.status.busy": "2023-05-26T12:39:23.067277Z",
     "iopub.execute_input": "2023-05-26T12:39:23.067626Z",
     "iopub.status.idle": "2023-05-26T12:39:23.073833Z",
     "shell.execute_reply.started": "2023-05-26T12:39:23.067597Z",
     "shell.execute_reply": "2023-05-26T12:39:23.072826Z"
    },
    "trusted": true
   },
   "execution_count": null,
   "outputs": []
  },
  {
   "cell_type": "code",
   "source": [
    "################# Storing Train Masks into an array #############\n",
    "train_masks = []\n",
    "\n",
    "for directory_path in glob.glob(\"/kaggle/input/satellite-images-of-water-bodies/Water Bodies Dataset/Masks\"):\n",
    "    for mask_path in glob.glob(os.path.join(directory_path,\"*.jpg\")):\n",
    "        mask=cv2.imread(mask_path,0)\n",
    "        mask=prep_mask(mask,crop_size,size_y,size_x)\n",
    "        mask=mask.reshape(size_x - 2*crop_size, size_y - 2*crop_size, 1)\n",
    "        train_masks.append(mask)\n",
    "        \n",
    "train_masks = np.array(train_masks) #converting list to array"
   ],
   "metadata": {
    "execution": {
     "iopub.status.busy": "2023-05-26T12:39:23.075465Z",
     "iopub.execute_input": "2023-05-26T12:39:23.076187Z",
     "iopub.status.idle": "2023-05-26T12:39:45.798772Z",
     "shell.execute_reply.started": "2023-05-26T12:39:23.076155Z",
     "shell.execute_reply": "2023-05-26T12:39:45.797864Z"
    },
    "trusted": true
   },
   "execution_count": null,
   "outputs": []
  },
  {
   "cell_type": "code",
   "source": [
    "len(train_images), len(train_masks)"
   ],
   "metadata": {
    "execution": {
     "iopub.status.busy": "2023-05-26T12:39:45.800244Z",
     "iopub.execute_input": "2023-05-26T12:39:45.800573Z",
     "iopub.status.idle": "2023-05-26T12:39:45.810152Z",
     "shell.execute_reply.started": "2023-05-26T12:39:45.800542Z",
     "shell.execute_reply": "2023-05-26T12:39:45.808946Z"
    },
    "trusted": true
   },
   "execution_count": null,
   "outputs": []
  },
  {
   "cell_type": "code",
   "source": [
    "train_images[0].shape, train_masks[0].shape"
   ],
   "metadata": {
    "execution": {
     "iopub.status.busy": "2023-05-26T12:39:45.811502Z",
     "iopub.execute_input": "2023-05-26T12:39:45.811973Z",
     "iopub.status.idle": "2023-05-26T12:39:45.822083Z",
     "shell.execute_reply.started": "2023-05-26T12:39:45.811943Z",
     "shell.execute_reply": "2023-05-26T12:39:45.820971Z"
    },
    "trusted": true
   },
   "execution_count": null,
   "outputs": []
  },
  {
   "cell_type": "code",
   "source": [
    "#normalizing\n",
    "x = train_images/255\n",
    "y = train_masks/255"
   ],
   "metadata": {
    "execution": {
     "iopub.status.busy": "2023-05-26T12:39:45.823699Z",
     "iopub.execute_input": "2023-05-26T12:39:45.824077Z",
     "iopub.status.idle": "2023-05-26T12:39:46.279927Z",
     "shell.execute_reply.started": "2023-05-26T12:39:45.824045Z",
     "shell.execute_reply": "2023-05-26T12:39:46.278966Z"
    },
    "trusted": true
   },
   "execution_count": null,
   "outputs": []
  },
  {
   "cell_type": "code",
   "source": [
    "########## Displaying random image from X_train and Y_train ######### \n",
    "random_num = random.randint(0,516)\n",
    "imshow(x[100])\n",
    "plt.show()\n",
    "imshow(y[100])\n",
    "plt.show() "
   ],
   "metadata": {
    "execution": {
     "iopub.status.busy": "2023-05-26T12:39:46.285443Z",
     "iopub.execute_input": "2023-05-26T12:39:46.285742Z",
     "iopub.status.idle": "2023-05-26T12:39:46.870830Z",
     "shell.execute_reply.started": "2023-05-26T12:39:46.285716Z",
     "shell.execute_reply": "2023-05-26T12:39:46.869857Z"
    },
    "trusted": true
   },
   "execution_count": null,
   "outputs": []
  },
  {
   "cell_type": "markdown",
   "source": [
    "# Models"
   ],
   "metadata": {}
  },
  {
   "cell_type": "markdown",
   "source": [
    "## Preparing dataset"
   ],
   "metadata": {}
  },
  {
   "cell_type": "code",
   "source": [
    "from sklearn.model_selection import train_test_split\n",
    "x_train, x_val, y_train, y_val = train_test_split(x, y, test_size=0.1, random_state=17)\n",
    "x_val, x_test, y_val, y_test = train_test_split(x_val, y_val, test_size=0.5, random_state=23)"
   ],
   "metadata": {
    "execution": {
     "iopub.status.busy": "2023-05-26T13:37:34.470623Z",
     "iopub.execute_input": "2023-05-26T13:37:34.471019Z",
     "iopub.status.idle": "2023-05-26T13:37:34.936520Z",
     "shell.execute_reply.started": "2023-05-26T13:37:34.470987Z",
     "shell.execute_reply": "2023-05-26T13:37:34.935531Z"
    },
    "trusted": true
   },
   "execution_count": null,
   "outputs": []
  },
  {
   "cell_type": "code",
   "source": [
    "from torch.utils.data import DataLoader\n",
    "batch_size = 256\n",
    "data_tr = DataLoader(list(zip(np.rollaxis(x_train, 3, 1), np.rollaxis(y_train, 3, 1))), \n",
    "                     batch_size=batch_size, shuffle=True)\n",
    "data_val = DataLoader(list(zip(np.rollaxis(x_val, 3, 1), np.rollaxis(y_val, 3, 1))), batch_size=batch_size, shuffle=True)\n",
    "data_ts = DataLoader(list(zip(np.rollaxis(x_test, 3, 1), np.rollaxis(y_test, 3, 1))),\n",
    "                     batch_size=batch_size, shuffle=True)"
   ],
   "metadata": {
    "execution": {
     "iopub.status.busy": "2023-05-26T13:37:41.405680Z",
     "iopub.execute_input": "2023-05-26T13:37:41.406058Z",
     "iopub.status.idle": "2023-05-26T13:37:41.416189Z",
     "shell.execute_reply.started": "2023-05-26T13:37:41.406027Z",
     "shell.execute_reply": "2023-05-26T13:37:41.415140Z"
    },
    "trusted": true
   },
   "execution_count": null,
   "outputs": []
  },
  {
   "cell_type": "markdown",
   "source": [
    "## Model"
   ],
   "metadata": {}
  },
  {
   "cell_type": "code",
   "source": [
    "import torch\n",
    "import torch.nn as nn\n",
    "import torch.nn.functional as F"
   ],
   "metadata": {
    "execution": {
     "iopub.status.busy": "2023-05-26T12:39:50.640911Z",
     "iopub.execute_input": "2023-05-26T12:39:50.641772Z",
     "iopub.status.idle": "2023-05-26T12:39:50.647068Z",
     "shell.execute_reply.started": "2023-05-26T12:39:50.641738Z",
     "shell.execute_reply": "2023-05-26T12:39:50.645972Z"
    },
    "trusted": true
   },
   "execution_count": null,
   "outputs": []
  },
  {
   "cell_type": "code",
   "source": [
    "model = torch.hub.load('mateuszbuda/brain-segmentation-pytorch', 'unet',\n",
    "    in_channels=3, out_channels=1, init_features=64, pretrained=False)"
   ],
   "metadata": {
    "execution": {
     "iopub.status.busy": "2023-05-26T17:16:02.859574Z",
     "iopub.execute_input": "2023-05-26T17:16:02.859973Z",
     "iopub.status.idle": "2023-05-26T17:16:03.431269Z",
     "shell.execute_reply.started": "2023-05-26T17:16:02.859938Z",
     "shell.execute_reply": "2023-05-26T17:16:03.430165Z"
    },
    "trusted": true
   },
   "execution_count": null,
   "outputs": []
  },
  {
   "cell_type": "markdown",
   "source": [
    "Let us have look, if this works. (If you use this, rerun dataloader part)"
   ],
   "metadata": {}
  },
  {
   "cell_type": "code",
   "source": [
    "from torch import Tensor\n",
    "\n",
    "\n",
    "def dice_coeff(input: Tensor, target: Tensor, reduce_batch_first: bool = False, epsilon: float = 1e-6):\n",
    "    # Average of Dice coefficient for all batches, or for a single mask\n",
    "    assert input.size() == target.size()\n",
    "    assert input.dim() == 3 or not reduce_batch_first\n",
    "\n",
    "    sum_dim = (-1, -2) if input.dim() == 2 or not reduce_batch_first else (-1, -2, -3)\n",
    "\n",
    "    inter = 2 * (input * target).sum(dim=sum_dim)\n",
    "    sets_sum = input.sum(dim=sum_dim) + target.sum(dim=sum_dim)\n",
    "    sets_sum = torch.where(sets_sum == 0, inter, sets_sum)\n",
    "\n",
    "    dice = (inter + epsilon) / (sets_sum + epsilon)\n",
    "    return dice.mean()\n",
    "\n",
    "\n",
    "def multiclass_dice_coeff(input: Tensor, target: Tensor, reduce_batch_first: bool = False, epsilon: float = 1e-6):\n",
    "    # Average of Dice coefficient for all classes\n",
    "    return dice_coeff(input.flatten(0, 1), target.flatten(0, 1), reduce_batch_first, epsilon)\n",
    "\n",
    "\n",
    "def dice_loss(input: Tensor, target: Tensor, multiclass: bool = False):\n",
    "    # Dice loss (objective to minimize) between 0 and 1\n",
    "    fn = multiclass_dice_coeff if multiclass else dice_coeff\n",
    "    return 1 - fn(input, target, reduce_batch_first=True)"
   ],
   "metadata": {
    "execution": {
     "iopub.status.busy": "2023-05-26T12:39:54.602852Z",
     "iopub.execute_input": "2023-05-26T12:39:54.603233Z",
     "iopub.status.idle": "2023-05-26T12:39:54.613728Z",
     "shell.execute_reply.started": "2023-05-26T12:39:54.603199Z",
     "shell.execute_reply": "2023-05-26T12:39:54.612824Z"
    },
    "trusted": true
   },
   "execution_count": null,
   "outputs": []
  },
  {
   "cell_type": "code",
   "source": [
    "from torchvision import transforms\n",
    "\n",
    "input_batch, true_output_batch = next(iter(data_tr))\n",
    "\n",
    "input_batch = input_batch.float()\n",
    "\n",
    "if torch.cuda.is_available():\n",
    "    input_batch = input_batch.to('cuda')\n",
    "    model = model.to('cuda')\n",
    "\n",
    "with torch.no_grad():\n",
    "    output = model(input_batch).cpu()\n",
    "\n",
    "print(output.shape)\n",
    "print(dice_loss(torch.round(output[0]), true_output_batch[0]))\n",
    "print(F.binary_cross_entropy_with_logits(torch.round(output[0]), true_output_batch[0]) + dice_loss(torch.round(output[0]), true_output_batch[0]))\n",
    "\n",
    "prediction = np.rollaxis(torch.round(output[0]).numpy(), 0, 3)\n",
    "image = np.rollaxis(input_batch[0].cpu().numpy(), 0, 3)\n",
    "mask = np.rollaxis(true_output_batch[0].numpy(), 0, 3)\n",
    "\n",
    "imshow(prediction)\n",
    "plt.show()\n",
    "\n",
    "imshow(mask)\n",
    "plt.show()\n",
    "\n",
    "imshow(image)\n",
    "plt.show()"
   ],
   "metadata": {
    "execution": {
     "iopub.status.busy": "2023-05-26T12:39:54.615158Z",
     "iopub.execute_input": "2023-05-26T12:39:54.615727Z",
     "iopub.status.idle": "2023-05-26T12:40:03.762941Z",
     "shell.execute_reply.started": "2023-05-26T12:39:54.615692Z",
     "shell.execute_reply": "2023-05-26T12:40:03.761830Z"
    },
    "trusted": true
   },
   "execution_count": null,
   "outputs": []
  },
  {
   "cell_type": "code",
   "source": [
    "# PyTroch version\n",
    "\n",
    "SMOOTH = 1e-3\n",
    "\n",
    "def iou_pytorch(outputs: torch.Tensor, labels: torch.Tensor):\n",
    "    # You can comment out this line if you are passing tensors of equal shape\n",
    "    # But if you are passing output from UNet or something it will most probably\n",
    "    # be with the BATCH x 1 x H x W shape\n",
    "    outputs = outputs.squeeze(1).int()  # BATCH x 1 x H x W => BATCH x H x W\n",
    "    labels = torch.round(labels).int()\n",
    "    intersection = (outputs * labels).float().sum((1, 2))  # Will be zero if Truth=0 or Prediction=0\n",
    "    union = ((outputs + labels).float() / 2).sum((1, 2))         # Will be zzero if both are 0\n",
    "    \n",
    "    iou = (intersection + SMOOTH) / (union + SMOOTH)  # We smooth our devision to avoid 0/0\n",
    "    \n",
    "    thresholded = torch.clamp(20 * (iou - 0.5), 0, 10).ceil() / 10  # This is equal to comparing with thresolds\n",
    "    \n",
    "    return thresholded  # Or thresholded.mean() if you are interested in average across the batch\n",
    "    "
   ],
   "metadata": {
    "execution": {
     "iopub.status.busy": "2023-05-26T12:40:03.764204Z",
     "iopub.execute_input": "2023-05-26T12:40:03.764994Z",
     "iopub.status.idle": "2023-05-26T12:40:03.772537Z",
     "shell.execute_reply.started": "2023-05-26T12:40:03.764961Z",
     "shell.execute_reply": "2023-05-26T12:40:03.771859Z"
    },
    "trusted": true
   },
   "execution_count": null,
   "outputs": []
  },
  {
   "cell_type": "code",
   "source": [
    "iou_pytorch(torch.round(output[0].cpu()), true_output_batch[0]).item()"
   ],
   "metadata": {
    "execution": {
     "iopub.status.busy": "2023-05-26T12:40:03.774947Z",
     "iopub.execute_input": "2023-05-26T12:40:03.775606Z",
     "iopub.status.idle": "2023-05-26T12:40:03.793362Z",
     "shell.execute_reply.started": "2023-05-26T12:40:03.775574Z",
     "shell.execute_reply": "2023-05-26T12:40:03.792295Z"
    },
    "trusted": true
   },
   "execution_count": null,
   "outputs": []
  },
  {
   "cell_type": "code",
   "source": [
    "dice_coeff(torch.round(output[0].cpu()), torch.round(true_output_batch[0])).item()"
   ],
   "metadata": {
    "execution": {
     "iopub.status.busy": "2023-05-26T12:40:03.795014Z",
     "iopub.execute_input": "2023-05-26T12:40:03.795359Z",
     "iopub.status.idle": "2023-05-26T12:40:03.803960Z",
     "shell.execute_reply.started": "2023-05-26T12:40:03.795326Z",
     "shell.execute_reply": "2023-05-26T12:40:03.802875Z"
    },
    "trusted": true
   },
   "execution_count": null,
   "outputs": []
  },
  {
   "cell_type": "code",
   "source": [
    "device = torch.device('cuda' if torch.cuda.is_available() else 'cpu')\n",
    "print(device)"
   ],
   "metadata": {
    "execution": {
     "iopub.status.busy": "2023-05-26T12:40:03.805252Z",
     "iopub.execute_input": "2023-05-26T12:40:03.805794Z",
     "iopub.status.idle": "2023-05-26T12:40:03.811777Z",
     "shell.execute_reply.started": "2023-05-26T12:40:03.805762Z",
     "shell.execute_reply": "2023-05-26T12:40:03.810884Z"
    },
    "trusted": true
   },
   "execution_count": null,
   "outputs": []
  },
  {
   "cell_type": "code",
   "source": [
    "def iou_score_model(model, data):\n",
    "    model.eval()  # testing mode\n",
    "    scores = 0\n",
    "    for X_batch, Y_label in data:\n",
    "        Y_pred = torch.unsqueeze((model(X_batch.float().to(device)).max(dim=1)[0] > 0.5).float(), dim = 1).to('cpu').detach()\n",
    "        Y_lab = (Y_label.max(dim=1)[0] > 0.5).int()\n",
    "        scores += iou_pytorch(Y_pred.to(device), Y_lab.to(device)).mean().item()\n",
    "    return scores/len(data)"
   ],
   "metadata": {
    "execution": {
     "iopub.status.busy": "2023-05-26T12:40:03.813080Z",
     "iopub.execute_input": "2023-05-26T12:40:03.813816Z",
     "iopub.status.idle": "2023-05-26T12:40:03.821487Z",
     "shell.execute_reply.started": "2023-05-26T12:40:03.813785Z",
     "shell.execute_reply": "2023-05-26T12:40:03.820578Z"
    },
    "trusted": true
   },
   "execution_count": null,
   "outputs": []
  },
  {
   "cell_type": "code",
   "source": [
    "def dice_score_model(model, data):\n",
    "    model.eval()  # testing mode\n",
    "    scores = 0\n",
    "    for X_batch, Y_label in data:\n",
    "        Y_pred = (model(X_batch.float().to(device)).max(dim=1)[0] > 0.5).float().to('cpu').detach()\n",
    "        Y_lab = (Y_label.max(dim=1)[0] > 0.5).int()\n",
    "        scores += dice_coeff(Y_pred.to(device), Y_lab.to(device)).mean().item()\n",
    "    return scores/len(data)"
   ],
   "metadata": {
    "execution": {
     "iopub.status.busy": "2023-05-26T12:40:03.822880Z",
     "iopub.execute_input": "2023-05-26T12:40:03.823306Z",
     "iopub.status.idle": "2023-05-26T12:40:03.832526Z",
     "shell.execute_reply.started": "2023-05-26T12:40:03.823275Z",
     "shell.execute_reply": "2023-05-26T12:40:03.831689Z"
    },
    "trusted": true
   },
   "execution_count": null,
   "outputs": []
  },
  {
   "cell_type": "code",
   "source": [
    "dice_score_model(model, data_ts)"
   ],
   "metadata": {
    "execution": {
     "iopub.status.busy": "2023-05-26T12:40:03.834040Z",
     "iopub.execute_input": "2023-05-26T12:40:03.834372Z",
     "iopub.status.idle": "2023-05-26T12:40:04.378279Z",
     "shell.execute_reply.started": "2023-05-26T12:40:03.834343Z",
     "shell.execute_reply": "2023-05-26T12:40:04.377298Z"
    },
    "trusted": true
   },
   "execution_count": null,
   "outputs": []
  },
  {
   "cell_type": "code",
   "source": [
    "model.to(device)"
   ],
   "metadata": {
    "execution": {
     "iopub.status.busy": "2023-05-26T14:41:50.009751Z",
     "iopub.execute_input": "2023-05-26T14:41:50.010132Z",
     "iopub.status.idle": "2023-05-26T14:41:50.059848Z",
     "shell.execute_reply.started": "2023-05-26T14:41:50.010101Z",
     "shell.execute_reply": "2023-05-26T14:41:50.058738Z"
    },
    "trusted": true
   },
   "execution_count": null,
   "outputs": []
  },
  {
   "cell_type": "code",
   "source": [
    "n_train = len(x_train)\n",
    "n_train"
   ],
   "metadata": {
    "execution": {
     "iopub.status.busy": "2023-05-26T12:40:04.391789Z",
     "iopub.execute_input": "2023-05-26T12:40:04.392779Z",
     "iopub.status.idle": "2023-05-26T12:40:04.398828Z",
     "shell.execute_reply.started": "2023-05-26T12:40:04.392746Z",
     "shell.execute_reply": "2023-05-26T12:40:04.397903Z"
    },
    "trusted": true
   },
   "execution_count": null,
   "outputs": []
  },
  {
   "cell_type": "code",
   "source": [
    "from tqdm import tqdm\n",
    "\n",
    "from torch import optim\n",
    "\n",
    "from IPython.display import clear_output"
   ],
   "metadata": {
    "execution": {
     "iopub.status.busy": "2023-05-26T12:40:04.400137Z",
     "iopub.execute_input": "2023-05-26T12:40:04.400856Z",
     "iopub.status.idle": "2023-05-26T12:40:04.411877Z",
     "shell.execute_reply.started": "2023-05-26T12:40:04.400825Z",
     "shell.execute_reply": "2023-05-26T12:40:04.410967Z"
    },
    "trusted": true
   },
   "execution_count": null,
   "outputs": []
  },
  {
   "cell_type": "code",
   "source": [],
   "metadata": {},
   "execution_count": null,
   "outputs": []
  },
  {
   "cell_type": "code",
   "source": [
    "def train(\n",
    "    model,\n",
    "    loss_fn,\n",
    "    epochs,\n",
    "    data_tr,\n",
    "    data_val,\n",
    "    amp: bool = False,\n",
    "    learning_rate: float = 1e-5,\n",
    "    weight_decay: float = 1e-8,\n",
    "    momentum: float = 0.999,\n",
    "    gradient_clipping: float = 1.0\n",
    "):\n",
    "    \n",
    "    X_val, Y_val = next(iter(data_val))\n",
    "    \n",
    "    loss_train = []\n",
    "    loss_val = []\n",
    "    scores = []\n",
    "    \n",
    "    criterion = nn.BCEWithLogitsLoss()\n",
    "    optimizer = optim.RMSprop(model.parameters(),\n",
    "                              lr=learning_rate, weight_decay=weight_decay, momentum=momentum, foreach=True)\n",
    "    scheduler = optim.lr_scheduler.ReduceLROnPlateau(optimizer, 'max', patience=5)  # goal: maximize Dice score\n",
    "    grad_scaler = torch.cuda.amp.GradScaler(enabled=amp)\n",
    "    global_step = 0\n",
    "    \n",
    "    for epoch in range(1, epochs + 1):\n",
    "        model.train()\n",
    "        epoch_loss = 0\n",
    "        with tqdm(total=n_train, desc=f'Epoch {epoch}/{epochs}', unit='img') as pbar:\n",
    "            for images, true_masks in data_tr:\n",
    "                images = images.float().to(device)\n",
    "                true_masks = true_masks.to(device)\n",
    "                \n",
    "                masks_pred = model(images)\n",
    "                loss = criterion(masks_pred.squeeze(1), true_masks.float().squeeze(1))\n",
    "                loss += dice_loss(masks_pred.squeeze(1), true_masks.float().squeeze(1), multiclass=False)\n",
    "\n",
    "                optimizer.zero_grad(set_to_none=True)\n",
    "                grad_scaler.scale(loss).backward()\n",
    "                torch.nn.utils.clip_grad_norm_(model.parameters(), gradient_clipping)\n",
    "                grad_scaler.step(optimizer)\n",
    "                grad_scaler.update()\n",
    "\n",
    "                pbar.update(images.shape[0])\n",
    "                global_step += 1\n",
    "                epoch_loss += loss.item()\n",
    "                pbar.set_postfix(**{'loss (batch)': loss.item()})\n",
    "        \n",
    "        loss_train.append(epoch_loss / len(data_tr))\n",
    "        model.eval()  # testing mode\n",
    "        temp = model(X_val.float().to(device)).to('cpu')\n",
    "        loss_valid = criterion(temp.squeeze(1), Y_val.float().squeeze(1)) + dice_loss(temp.squeeze(1), Y_val.float().squeeze(1), multiclass=False)\n",
    "        Y_val_pred = torch.round(temp)\n",
    "        loss_val.append(float(loss_valid.detach()))\n",
    "        Y_hat = Y_val_pred.detach().numpy() # detach and put into cpu\n",
    "        scores.append((iou_score_model(model, data_val), dice_score_model(model, data_val)))\n",
    "        \n",
    "        clear_output(wait=True)\n",
    "        plt.figure(figsize=(18, 6))\n",
    "        for k in range(6):\n",
    "            plt.subplot(3, 6, k+1)\n",
    "            plt.imshow(np.rollaxis(X_val[k].numpy(), 0, 3), cmap='gray')\n",
    "            plt.title('Real')\n",
    "            plt.axis('off')\n",
    "            plt.subplot(3, 6, k+7)\n",
    "            plt.imshow(Y_hat[k, 0], cmap='gray')\n",
    "            plt.title('Output')\n",
    "            plt.axis('off')\n",
    "            plt.subplot(3, 6, k+13)\n",
    "            plt.imshow(Y_val[k, 0], cmap='gray')\n",
    "            plt.title('Real Mask')\n",
    "            plt.axis('off')\n",
    "        plt.show()\n",
    "        \n",
    "    return loss_train, loss_val, scores"
   ],
   "metadata": {
    "execution": {
     "iopub.status.busy": "2023-05-26T12:40:04.413267Z",
     "iopub.execute_input": "2023-05-26T12:40:04.413969Z",
     "iopub.status.idle": "2023-05-26T12:40:04.433116Z",
     "shell.execute_reply.started": "2023-05-26T12:40:04.413812Z",
     "shell.execute_reply": "2023-05-26T12:40:04.432111Z"
    },
    "trusted": true
   },
   "execution_count": null,
   "outputs": []
  },
  {
   "cell_type": "code",
   "source": [
    "model.to(device)\n",
    "max_epochs = 300\n",
    "loss_func = nn.BCEWithLogitsLoss()\n",
    "tr_loss, val_loss, scores = train(model, loss_func, max_epochs, data_tr, data_val)"
   ],
   "metadata": {
    "execution": {
     "iopub.status.busy": "2023-05-26T17:16:40.117560Z",
     "iopub.execute_input": "2023-05-26T17:16:40.117952Z"
    },
    "trusted": true
   },
   "execution_count": null,
   "outputs": []
  },
  {
   "cell_type": "code",
   "source": [
    "iou_score_model(model, data_ts), dice_score_model(model, data_ts)"
   ],
   "metadata": {
    "execution": {
     "iopub.status.busy": "2023-05-26T17:08:46.338124Z",
     "iopub.execute_input": "2023-05-26T17:08:46.339239Z",
     "iopub.status.idle": "2023-05-26T17:08:47.042758Z",
     "shell.execute_reply.started": "2023-05-26T17:08:46.339196Z",
     "shell.execute_reply": "2023-05-26T17:08:47.041719Z"
    },
    "trusted": true
   },
   "execution_count": null,
   "outputs": []
  },
  {
   "cell_type": "code",
   "source": [
    "import numpy as np\n",
    "\n",
    "\n",
    "t = np.arange(0., max_epochs, 1)\n",
    "x1 = [elem for elem in tr_loss]\n",
    "x2 = [elem for elem in val_loss]\n",
    "x3 = [elem for elem in scores]\n",
    "\n",
    "plt.figure(figsize=(18, 6))\n",
    "fig, (ax1, ax2) = plt.subplots(1, 2, sharex=True, sharey=True)\n",
    "\n",
    "ax1.plot(t, x1, 'r', t, x2, 'b', lw=2)\n",
    "ax2.plot(t, x3, 'g')\n",
    "\n",
    "ax1.set_ylabel('loss')\n",
    "ax2.set_ylabel('score')\n",
    "\n",
    "fig.suptitle('smth')\n",
    "\n",
    "plt.show()"
   ],
   "metadata": {
    "execution": {
     "iopub.status.busy": "2023-05-26T17:09:16.937159Z",
     "iopub.execute_input": "2023-05-26T17:09:16.937558Z",
     "iopub.status.idle": "2023-05-26T17:09:17.277753Z",
     "shell.execute_reply.started": "2023-05-26T17:09:16.937525Z",
     "shell.execute_reply": "2023-05-26T17:09:17.276815Z"
    },
    "trusted": true
   },
   "execution_count": null,
   "outputs": []
  },
  {
   "cell_type": "code",
   "source": [
    "import pickle\n",
    "\n",
    "with open(\"unet.pkl\", 'wb') as file:\n",
    "    pickle.dump(model.to('cpu'), file)"
   ],
   "metadata": {
    "execution": {
     "iopub.status.busy": "2023-05-26T14:43:11.647623Z",
     "iopub.execute_input": "2023-05-26T14:43:11.648795Z",
     "iopub.status.idle": "2023-05-26T14:43:12.122907Z",
     "shell.execute_reply.started": "2023-05-26T14:43:11.648752Z",
     "shell.execute_reply": "2023-05-26T14:43:12.121895Z"
    },
    "trusted": true
   },
   "execution_count": null,
   "outputs": []
  },
  {
   "cell_type": "code",
   "source": [
    "def make_mask_from_image(image_path, model):\n",
    "    img = Image.open(image_path)\n",
    "    img = prep_image(img,crop_size,size_y,size_x)\n",
    "    img = np.asarray(img) / 255\n",
    "    \n",
    "    model.to(device)\n",
    "    tensor = torch.unsqueeze(torch.FloatTensor(np.rollaxis(img, 2, 0)), 0).to(device)\n",
    "    with torch.no_grad():\n",
    "        mask = np.rollaxis(torch.round(model(tensor).cpu()[0]).numpy(), 0, 3)\n",
    "    return img, mask"
   ],
   "metadata": {
    "execution": {
     "iopub.status.busy": "2023-05-26T12:46:35.473069Z",
     "iopub.execute_input": "2023-05-26T12:46:35.473509Z",
     "iopub.status.idle": "2023-05-26T12:46:35.480137Z",
     "shell.execute_reply.started": "2023-05-26T12:46:35.473476Z",
     "shell.execute_reply": "2023-05-26T12:46:35.478807Z"
    },
    "trusted": true
   },
   "execution_count": null,
   "outputs": []
  },
  {
   "cell_type": "code",
   "source": [
    "orig, mask = make_mask_from_image(\"/kaggle/input/satellite-images-of-water-bodies/Water Bodies Dataset/Images/water_body_102.jpg\", model)\n",
    "\n",
    "imshow(orig)\n",
    "plt.show()\n",
    "\n",
    "imshow(mask)\n",
    "plt.show()"
   ],
   "metadata": {
    "execution": {
     "iopub.status.busy": "2023-05-26T17:11:10.761865Z",
     "iopub.execute_input": "2023-05-26T17:11:10.762613Z",
     "iopub.status.idle": "2023-05-26T17:11:11.407943Z",
     "shell.execute_reply.started": "2023-05-26T17:11:10.762579Z",
     "shell.execute_reply": "2023-05-26T17:11:11.406829Z"
    },
    "trusted": true
   },
   "execution_count": null,
   "outputs": []
  },
  {
   "cell_type": "code",
   "source": [],
   "metadata": {
    "trusted": true
   },
   "execution_count": null,
   "outputs": []
  }
 ]
}
