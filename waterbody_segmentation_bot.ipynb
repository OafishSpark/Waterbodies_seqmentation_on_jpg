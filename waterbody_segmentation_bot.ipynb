{
 "nbformat": 4,
 "nbformat_minor": 0,
 "metadata": {
  "colab": {
   "provenance": [],
   "gpuType": "T4"
  },
  "kernelspec": {
   "name": "python3",
   "display_name": "Python 3"
  },
  "language_info": {
   "name": "python"
  },
  "accelerator": "GPU",
  "gpuClass": "standard"
 },
 "cells": [
  {
   "cell_type": "code",
   "source": [
    "!rm \"./unet.pkl\"\n",
    "# remove ?dl=0, man\n",
    "!wget -O unet.pkl https://www.dropbox.com/s/mj2m9gteu5ou6sk/unet.pkl?dl=0"
   ],
   "metadata": {
    "id": "68wBZ_qPKaUa"
   },
   "execution_count": null,
   "outputs": []
  },
  {
   "cell_type": "markdown",
   "source": [
    "# Preparing model"
   ],
   "metadata": {
    "id": "Hx6KIrU31LBb"
   }
  },
  {
   "cell_type": "code",
   "execution_count": 33,
   "metadata": {
    "id": "HC-r2ZsgTgAS"
   },
   "outputs": [],
   "source": [
    "import torch\n",
    "import torch.nn.functional as F\n",
    "\n",
    "import numpy as np\n",
    "\n",
    "from PIL import Image\n",
    "\n",
    "from skimage.io import imshow\n",
    "from skimage.io import imsave\n",
    "\n",
    "import matplotlib.pyplot as plt"
   ]
  },
  {
   "cell_type": "code",
   "source": [
    "model = torch.hub.load('mateuszbuda/brain-segmentation-pytorch', 'unet',\n",
    "    in_channels=3, out_channels=1, init_features=32, pretrained=False)"
   ],
   "metadata": {
    "id": "hbgWiJ1osmWP",
    "colab": {
     "base_uri": "https://localhost:8080/"
    },
    "outputId": "d3b86dac-df18-4f95-82df-f15cadfbf809"
   },
   "execution_count": 34,
   "outputs": [
    {
     "output_type": "stream",
     "name": "stderr",
     "text": [
      "Using cache found in /root/.cache/torch/hub/mateuszbuda_brain-segmentation-pytorch_master\n"
     ]
    }
   ]
  },
  {
   "cell_type": "code",
   "source": [
    "device = torch.device('cuda' if torch.cuda.is_available() else 'cpu')\n",
    "print(device)"
   ],
   "metadata": {
    "colab": {
     "base_uri": "https://localhost:8080/"
    },
    "id": "HKlSMxfmT937",
    "outputId": "3bee69d9-ce0b-4098-fe35-6cfe36f03c4f"
   },
   "execution_count": 35,
   "outputs": [
    {
     "output_type": "stream",
     "name": "stdout",
     "text": [
      "cpu\n"
     ]
    }
   ]
  },
  {
   "cell_type": "code",
   "source": [
    "def prep_image(image, crop_size, size_y, size_x):\n",
    "    # Resize the image\n",
    "    prepd_image = image.resize((size_y, size_x))\n",
    "    # Crop the image to remove the border black pixels\n",
    "    borders = (crop_size, crop_size, size_x - crop_size, size_y - crop_size)\n",
    "    prepd_image = prepd_image.crop(borders)\n",
    "    return prepd_image"
   ],
   "metadata": {
    "id": "A1oqx1PuqphT"
   },
   "execution_count": 36,
   "outputs": []
  },
  {
   "cell_type": "code",
   "source": [
    "def make_mask_from_path(image_path, model):\n",
    "    img = Image.open(image_path)\n",
    "    img = prep_image(img,20,168,168)\n",
    "    img = np.asarray(img) / 255\n",
    "\n",
    "    model.to(device)\n",
    "    tensor = torch.unsqueeze(torch.FloatTensor(np.rollaxis(img, 2, 0)), 0).to(device)\n",
    "    with torch.no_grad():\n",
    "        mask = model(tensor)\n",
    "    # mask = F.interpolate(mask.cpu(), size=1024, mode='bilinear', align_corners=False)\n",
    "    mask = np.rollaxis(torch.round(mask[0].cpu()).numpy(), 0, 3)\n",
    "    img = img - img * mask + mask * 0.1\n",
    "    return img, mask"
   ],
   "metadata": {
    "id": "YqDI0TevqJM2"
   },
   "execution_count": 37,
   "outputs": []
  },
  {
   "cell_type": "code",
   "source": [
    "import pickle\n",
    "\n",
    "with open('unet.pkl', 'rb') as f:\n",
    "  model = pickle.load(f)"
   ],
   "metadata": {
    "id": "AnSoAWQOqvZn"
   },
   "execution_count": 38,
   "outputs": []
  },
  {
   "cell_type": "code",
   "source": [
    "!pip install pytelegrambotapi"
   ],
   "metadata": {
    "colab": {
     "base_uri": "https://localhost:8080/"
    },
    "id": "1MuOhreJ5fmY",
    "outputId": "24074fae-76ae-4de8-e047-b6db0572290a"
   },
   "execution_count": 39,
   "outputs": [
    {
     "output_type": "stream",
     "name": "stdout",
     "text": [
      "Looking in indexes: https://pypi.org/simple, https://us-python.pkg.dev/colab-wheels/public/simple/\n",
      "Requirement already satisfied: pytelegrambotapi in /usr/local/lib/python3.10/dist-packages (4.12.0)\n",
      "Requirement already satisfied: requests in /usr/local/lib/python3.10/dist-packages (from pytelegrambotapi) (2.27.1)\n",
      "Requirement already satisfied: urllib3<1.27,>=1.21.1 in /usr/local/lib/python3.10/dist-packages (from requests->pytelegrambotapi) (1.26.15)\n",
      "Requirement already satisfied: certifi>=2017.4.17 in /usr/local/lib/python3.10/dist-packages (from requests->pytelegrambotapi) (2022.12.7)\n",
      "Requirement already satisfied: charset-normalizer~=2.0.0 in /usr/local/lib/python3.10/dist-packages (from requests->pytelegrambotapi) (2.0.12)\n",
      "Requirement already satisfied: idna<4,>=2.5 in /usr/local/lib/python3.10/dist-packages (from requests->pytelegrambotapi) (3.4)\n"
     ]
    }
   ]
  },
  {
   "cell_type": "code",
   "source": [
    "import telebot\n",
    "\n",
    "from telebot import types\n",
    "\n",
    "from pathlib import Path"
   ],
   "metadata": {
    "id": "WzaXW6tU6h2b"
   },
   "execution_count": 40,
   "outputs": []
  },
  {
   "cell_type": "markdown",
   "source": [
    "# Telegram Bot"
   ],
   "metadata": {
    "id": "JP6uUJ_TGJf4"
   }
  },
  {
   "cell_type": "code",
   "source": [
    "bot = telebot.TeleBot()"
   ],
   "metadata": {
    "id": "A4C5WDiW5maP"
   },
   "execution_count": 41,
   "outputs": []
  },
  {
   "cell_type": "code",
   "source": [
    "@bot.message_handler(commands = ['start'])\n",
    "def smth(message):\n",
    "    markup = types.InlineKeyboardMarkup()\n",
    "    bot.send_message(message.from_user.id, \"Send the pic to get the mask!\", reply_markup = markup)"
   ],
   "metadata": {
    "id": "ZeSto80B7Enh"
   },
   "execution_count": 42,
   "outputs": []
  },
  {
   "cell_type": "code",
   "source": [
    "@bot.message_handler(content_types='photo')\n",
    "def pic_reply(message):\n",
    "    Path(f'files/{message.chat.id}/').mkdir(parents=True, exist_ok=True)\n",
    "    file_info = bot.get_file(message.photo[len(message.photo) - 1].file_id)\n",
    "    downloaded_file = bot.download_file(file_info.file_path)\n",
    "    \n",
    "    src = f'files/{message.chat.id}/' + file_info.file_path.replace('photos/', '')\n",
    "    with open(src, 'wb') as new_file:\n",
    "        new_file.write(downloaded_file)\n",
    "    \n",
    "    image, mask = make_mask_from_path(src, model)\n",
    "    \n",
    "    src = f'files/{message.chat.id}/' + 'image.jpg'\n",
    "    imsave(src, image)\n",
    "    with open(src, 'rb') as f:\n",
    "      bot.send_photo(message.from_user.id, f)\n",
    "\n",
    "    src = f'files/{message.chat.id}/' + 'mask.jpg'\n",
    "    imsave(src, mask)\n",
    "    with open(src, 'rb') as f:\n",
    "      bot.send_photo(message.from_user.id, f)\n",
    "    "
   ],
   "metadata": {
    "id": "2DYenoTE9_ag"
   },
   "execution_count": 43,
   "outputs": []
  },
  {
   "cell_type": "code",
   "source": [
    "bot.polling(none_stop=True, interval=0)"
   ],
   "metadata": {
    "colab": {
     "base_uri": "https://localhost:8080/"
    },
    "id": "Mqd7hsdw7grE",
    "outputId": "378a5612-9c80-4be8-9e7f-1467b5be0008"
   },
   "execution_count": 44,
   "outputs": [
    {
     "output_type": "stream",
     "name": "stderr",
     "text": [
      "WARNING:imageio:Lossy conversion from float64 to uint8. Range [0, 1]. Convert image to uint8 prior to saving to suppress this warning.\n",
      "WARNING:imageio:Lossy conversion from float32 to uint8. Range [0, 1]. Convert image to uint8 prior to saving to suppress this warning.\n",
      "WARNING:imageio:Lossy conversion from float64 to uint8. Range [0, 1]. Convert image to uint8 prior to saving to suppress this warning.\n",
      "WARNING:imageio:Lossy conversion from float32 to uint8. Range [0, 1]. Convert image to uint8 prior to saving to suppress this warning.\n",
      "WARNING:imageio:Lossy conversion from float64 to uint8. Range [0, 1]. Convert image to uint8 prior to saving to suppress this warning.\n",
      "WARNING:imageio:Lossy conversion from float32 to uint8. Range [0, 1]. Convert image to uint8 prior to saving to suppress this warning.\n",
      "WARNING:imageio:Lossy conversion from float64 to uint8. Range [0, 1]. Convert image to uint8 prior to saving to suppress this warning.\n",
      "WARNING:imageio:Lossy conversion from float32 to uint8. Range [0, 1]. Convert image to uint8 prior to saving to suppress this warning.\n",
      "WARNING:imageio:Lossy conversion from float64 to uint8. Range [0, 1]. Convert image to uint8 prior to saving to suppress this warning.\n",
      "WARNING:imageio:Lossy conversion from float32 to uint8. Range [0, 1]. Convert image to uint8 prior to saving to suppress this warning.\n",
      "WARNING:imageio:Lossy conversion from float64 to uint8. Range [0, 1]. Convert image to uint8 prior to saving to suppress this warning.\n",
      "WARNING:imageio:Lossy conversion from float32 to uint8. Range [0, 1]. Convert image to uint8 prior to saving to suppress this warning.\n",
      "WARNING:imageio:Lossy conversion from float64 to uint8. Range [0, 1]. Convert image to uint8 prior to saving to suppress this warning.\n",
      "WARNING:imageio:Lossy conversion from float32 to uint8. Range [0, 1]. Convert image to uint8 prior to saving to suppress this warning.\n",
      "WARNING:imageio:Lossy conversion from float64 to uint8. Range [0, 1]. Convert image to uint8 prior to saving to suppress this warning.\n",
      "WARNING:imageio:Lossy conversion from float32 to uint8. Range [0, 1]. Convert image to uint8 prior to saving to suppress this warning.\n"
     ]
    }
   ]
  },
  {
   "cell_type": "markdown",
   "source": [
    "# PS"
   ],
   "metadata": {
    "id": "ihfYzmsGZkkC"
   }
  },
  {
   "cell_type": "code",
   "source": [],
   "metadata": {
    "id": "jDPxHM5uZjcQ"
   },
   "execution_count": null,
   "outputs": []
  }
 ]
}
